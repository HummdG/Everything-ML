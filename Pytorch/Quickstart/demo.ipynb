{
 "cells": [
  {
   "cell_type": "code",
   "execution_count": 1,
   "id": "ed843ea1",
   "metadata": {},
   "outputs": [],
   "source": [
    "import torch\n",
    "from torch import nn\n",
    "from torch.utils.data import DataLoader\n",
    "from torchvision import datasets\n",
    "from torchvision.transforms import ToTensor"
   ]
  },
  {
   "cell_type": "code",
   "execution_count": 2,
   "id": "8a42eae4",
   "metadata": {},
   "outputs": [],
   "source": [
    "# get the data from the dataset\n",
    "\n",
    "training_data = datasets.FashionMNIST (\n",
    "    root = \"data\",\n",
    "    train = True,\n",
    "    download = True,\n",
    "    transform = ToTensor(),\n",
    ")\n",
    "\n",
    "test_data = datasets.FashionMNIST(\n",
    "    root = \"data\",\n",
    "    train = False,\n",
    "    download = True,\n",
    "    transform = ToTensor(),\n",
    ")\n"
   ]
  },
  {
   "cell_type": "code",
   "execution_count": 3,
   "id": "9f59aa4d",
   "metadata": {},
   "outputs": [
    {
     "name": "stdout",
     "output_type": "stream",
     "text": [
      "Shape of X [N, C, H, W]: torch.Size([64, 1, 28, 28])\n",
      "Shape of y: torch.Size([64]) torch.int64\n",
      "tensor([9, 2, 1, 1, 6, 1, 4, 6, 5, 7, 4, 5, 7, 3, 4, 1, 2, 4, 8, 0, 2, 5, 7, 9,\n",
      "        1, 4, 6, 0, 9, 3, 8, 8, 3, 3, 8, 0, 7, 5, 7, 9, 6, 1, 3, 7, 6, 7, 2, 1,\n",
      "        2, 2, 4, 4, 5, 8, 2, 2, 8, 4, 8, 0, 7, 7, 8, 5])\n"
     ]
    }
   ],
   "source": [
    "batch_size = 64\n",
    "\n",
    "# dataloader allows teh data to become iterable so we can do stuff on the dataset\n",
    "\n",
    "train_dataloader = DataLoader(training_data, batch_size = batch_size)\n",
    "test_dataloader = DataLoader(test_data, batch_size = batch_size)\n",
    "\n",
    "# X is the tensor of images - dataset that contains a 4D array or a rank 4 tensor \n",
    "# image tensors are usually split into 4 dimensions: N = batch size or the number of images in each tensor\n",
    "# C = number of channel (1 for gray images and 3 for coloured images)\n",
    "# H = height of the image\n",
    "# W = width of the image\n",
    "\n",
    "\n",
    "# y contains the labels for the images\n",
    "\n",
    "for X, y in test_dataloader:\n",
    "    print(f\"Shape of X [N, C, H, W]: {X.shape}\")\n",
    "    print(f\"Shape of y: {y.shape} {y.dtype}\")\n",
    "    print(y)\n",
    "    break\n"
   ]
  },
  {
   "cell_type": "code",
   "execution_count": 4,
   "id": "e290347b",
   "metadata": {},
   "outputs": [
    {
     "name": "stdout",
     "output_type": "stream",
     "text": [
      "NeuralNetwork(\n",
      "  (flatten): Flatten(start_dim=1, end_dim=-1)\n",
      "  (linear_relu_stack): Sequential(\n",
      "    (0): Linear(in_features=784, out_features=512, bias=True)\n",
      "    (1): ReLU()\n",
      "    (2): Linear(in_features=512, out_features=512, bias=True)\n",
      "    (3): ReLU()\n",
      "    (4): Linear(in_features=512, out_features=10, bias=True)\n",
      "  )\n",
      ")\n"
     ]
    }
   ],
   "source": [
    "# essentially you can choose a device where you want to run the model\n",
    "# GPUs allow for parallelisation because of multi threading\n",
    "# Therefore machine learning tasks can be given to GPUs to do usually\n",
    "# However, if the GPU is not available we use CPU\n",
    "\n",
    "device = torch.accelerator.current_accelerator().type if torch.accelerator.is_available() else \"cpu\"\n",
    "\n",
    "# model inherited from the nn.Module\n",
    "\n",
    "class NeuralNetwork(nn.Module):\n",
    "    def __init__(self):\n",
    "        super().__init__()\n",
    "        self.flatten = nn.Flatten() # attribute flatten \n",
    "        self.linear_relu_stack = nn.Sequential( # attribute whcih is just a sequential stack of linear and relu layers\n",
    "            nn.Linear(28*28,512),\n",
    "            nn.ReLU(),\n",
    "            nn.Linear(512, 512),\n",
    "            nn.ReLU(),\n",
    "            nn.Linear(512, 10)\n",
    "        )\n",
    "        \n",
    "    # the logits are the raw outputs of the NN - they mean nothing essentially, \n",
    "    # but the magnitude and direction define a likelihood of sorts.\n",
    "    # the bigger the number and the more positive the more likely it is that class.\n",
    "    # for a classification task of 3 classes for example, for each image \n",
    "    # you will get logits like this [2.5, -1.6, 1]. So this means it is likely the first class\n",
    "    # \n",
    "    # not a probability - probability achieved by using a normalisation technique\n",
    "    # for classifcation we use softmax: exp(z^i)/exp(z^j) for all j from 1 to n\n",
    "    # it makes the negative values of the logits into positive but small values (because of how exponentiation works)\n",
    "    # and then the division by all other values in teh vector normalises beteween 0 and 1 to make it into probabiliies\n",
    "    # softmax values are used in training, but we only pass in the logits pytorch handles the rest.\n",
    "    # \n",
    "    #   \n",
    "    def forward(self, x):\n",
    "        x = self.flatten(x)\n",
    "        logits = self.linear_relu_stack(x) # long ass explanation - see above\n",
    "        return logits\n",
    "\n",
    "model = NeuralNetwork().to(device)\n",
    "print(model)"
   ]
  },
  {
   "cell_type": "code",
   "execution_count": 5,
   "id": "d4fa65dc",
   "metadata": {},
   "outputs": [],
   "source": [
    "# so cross entropy is essentially a way of comparing two probability distributions\n",
    "# low entropy means something is predictable and a high entropy means something is random\n",
    "# if you compute the cross entropy between your true distribution (which is just a one-hot vector)\n",
    "# a one hot vector is a vector like this [0, 0, 1] where the correct label class is signified as a 1 and everything else is a 0\n",
    "# your predicted disribution will be softamx(logits) for an image\n",
    "# then you compute the cross entropy -> H(p,q) = - sum(p(i)log(q(i))) for all classes from 0 to C\n",
    "# log(0) - log(1) are negative numbers so what you need the negative at the front to make it positive.\n",
    "#\n",
    "# benefit: it penalises confidently wrong guesses because if cross entropy loss is high for that guess then the weights are readjusted to make the model learn.\n",
    "\n",
    "loss_fn = nn.CrossEntropyLoss()\n",
    "optimizer = torch.optim.SGD(model.parameters(), lr=1e-3) # loss function traversed using stochastic gradient descent - more detail elsewhere."
   ]
  },
  {
   "cell_type": "code",
   "execution_count": 6,
   "id": "6f921988",
   "metadata": {},
   "outputs": [],
   "source": [
    "def train(model, dataloader, loss_fn, optimizer):\n",
    "\n",
    "    size = len(dataloader.dataset)\n",
    "    model.train()\n",
    "    for batch, (X, y) in enumerate(dataloader):\n",
    "        X, y = X.to(device), y.to(device)\n",
    "\n",
    "        pred = model(X) # prediction of the model\n",
    "        loss = loss_fn(pred, y) # loss function takes the prediciton and the true value \n",
    "\n",
    "        loss.backward() # backward propogation - computes teh gradienst w.r.t all weights\n",
    "        optimizer.step() # apply gradient update to weights\n",
    "        optimizer.zero_grad() # remove gradient after batch done otherwise will accumulate for next batch\n",
    "\n",
    "        if batch % 100 == 0:\n",
    "\n",
    "            loss, current = loss.item(), (batch+1)*len(X) # loss.item() - raw tensor loss value\n",
    "            print(f\"loss: {loss:>7f} [{current:>5d}/{size:>5d}]\")"
   ]
  },
  {
   "cell_type": "code",
   "execution_count": 7,
   "id": "1d1d9369",
   "metadata": {},
   "outputs": [],
   "source": [
    "def test(dataloader, model, loss_fn):\n",
    "    size = len(dataloader.dataset)\n",
    "    num_batches = len(dataloader)\n",
    "    model.eval() # done for evaluation\n",
    "    test_loss, correct = 0, 0\n",
    "    \n",
    "    with torch.no_grad():\n",
    "        for X, y, in dataloader:\n",
    "            X, y = X.to(device), y.to(device)\n",
    "            pred = model(X)\n",
    "            test_loss += loss_fn(pred, y).item() # loss across all batches - we are evaluating so need to see loss on all dataset\n",
    "            \n",
    "            ### Let’s break this down:\n",
    "            # 1. `pred.argmax(1)`  \n",
    "            #    - Finds the predicted class (highest logit) for each example in the batch  \n",
    "            #    - Output shape: `[batch_size]`\n",
    "\n",
    "            # 2. `(pred.argmax(1) == y)`  \n",
    "            #    - Compares predictions to true labels  \n",
    "            #    - Returns a boolean tensor (e.g. `[True, False, True, ...]`)\n",
    "\n",
    "            # 3. `.type(torch.float)`  \n",
    "            #    - Converts `True → 1.0`, `False → 0.0`  \n",
    "            #    - So now you can **sum** correct predictions\n",
    "\n",
    "            # 4. `.sum().item()`  \n",
    "            #    - Counts the number of correct predictions in the batch  \n",
    "            #    - `.item()` converts the tensor to a Python number\n",
    "            \n",
    "            correct += (pred.argmax(1) == y).type(torch.float).sum().item() # number of correct prediciton in the batch compared to the total count\n",
    "    test_loss /= num_batches # then gives average loss across all batches\n",
    "    correct /= size\n",
    "\n",
    "    print(f\"Test Error: \\n Accuracy: {(100*correct):>0.1f}%, Avg loss: {test_loss:>8f} \\n\")"
   ]
  },
  {
   "cell_type": "code",
   "execution_count": null,
   "id": "183dde06",
   "metadata": {},
   "outputs": [
    {
     "name": "stdout",
     "output_type": "stream",
     "text": [
      "Epoch 1\n",
      "--------------\n",
      "loss: 1.152426 [   64/60000]\n",
      "loss: 1.148739 [ 6464/60000]\n"
     ]
    }
   ],
   "source": [
    "epochs = 15\n",
    "for t in range(epochs):\n",
    "    print(f\"Epoch {t+1}\\n--------------\")\n",
    "    train(model, train_dataloader, loss_fn, optimizer)\n",
    "    test(test_dataloader, model, loss_fn)\n",
    "print(\"Done!\")"
   ]
  },
  {
   "cell_type": "code",
   "execution_count": 15,
   "id": "c2a39fd2",
   "metadata": {},
   "outputs": [
    {
     "name": "stdout",
     "output_type": "stream",
     "text": [
      "Predicted: \"Trouser\", Actual: \"Trouser\"\n"
     ]
    }
   ],
   "source": [
    "classes = [\n",
    "    \"T-shirt/top\",\n",
    "    \"Trouser\",\n",
    "    \"Pullover\",\n",
    "    \"Dress\",\n",
    "    \"Coat\",\n",
    "    \"Sandal\",\n",
    "    \"Shirt\",\n",
    "    \"Sneaker\",\n",
    "    \"Bag\",\n",
    "    \"Ankle boot\",\n",
    "]\n",
    "\n",
    "model.eval()\n",
    "x,y = test_data[2][0], test_data[2][1]\n",
    "with torch.no_grad():\n",
    "    x = x.to(device)\n",
    "    pred = model(x)\n",
    "    predicted, actual = classes[pred[0].argmax(0)], classes[y]\n",
    "    print(f'Predicted: \"{predicted}\", Actual: \"{actual}\"')"
   ]
  }
 ],
 "metadata": {
  "kernelspec": {
   "display_name": "torch_env",
   "language": "python",
   "name": "python3"
  },
  "language_info": {
   "codemirror_mode": {
    "name": "ipython",
    "version": 3
   },
   "file_extension": ".py",
   "mimetype": "text/x-python",
   "name": "python",
   "nbconvert_exporter": "python",
   "pygments_lexer": "ipython3",
   "version": "3.13.3"
  }
 },
 "nbformat": 4,
 "nbformat_minor": 5
}
